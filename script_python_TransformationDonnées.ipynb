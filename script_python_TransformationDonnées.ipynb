{
  "cells": [
    {
      "cell_type": "markdown",
      "source": [
        "# Projet Neo4J - Yelp\n",
        "*Réalisé par:*\n",
        "* Issa Abakar (22112414)\n",
        "* Ahmed Amine Ghorbel (22214386)"
      ],
      "metadata": {
        "id": "k4QJRHWdtPms"
      }
    },
    {
      "cell_type": "code",
      "execution_count": null,
      "metadata": {
        "id": "3vtJcjmk8d3T"
      },
      "outputs": [],
      "source": [
        "import json\n",
        "import csv\n",
        "import pandas as pd"
      ]
    },
    {
      "cell_type": "code",
      "execution_count": null,
      "metadata": {
        "colab": {
          "base_uri": "https://localhost:8080/"
        },
        "id": "Uw8rJqvEwa3h",
        "outputId": "8c7bed72-7e9c-44c7-f600-a0f145ab223c"
      },
      "outputs": [
        {
          "output_type": "stream",
          "name": "stdout",
          "text": [
            "Mounted at /content/drive\n"
          ]
        }
      ],
      "source": [
        "from google.colab import drive\n",
        "drive.mount('/content/drive')"
      ]
    },
    {
      "cell_type": "code",
      "execution_count": null,
      "metadata": {
        "id": "LklOWYMKyBcL"
      },
      "outputs": [],
      "source": [
        "users_json_path = \"/content/drive/MyDrive/M2/BigData/projet_neo4j/yelp_user.json\"\n",
        "restos_json_path = \"/content/drive/MyDrive/M2/BigData/projet_neo4j/yelp_restaurants.json\"\n",
        "reviews_json_path = \"/content/drive/MyDrive/M2/BigData/projet_neo4j/yelp_review.json\""
      ]
    },
    {
      "cell_type": "markdown",
      "metadata": {
        "id": "zALuLipDA4Ab"
      },
      "source": [
        "### Data loading"
      ]
    },
    {
      "cell_type": "code",
      "execution_count": null,
      "metadata": {
        "id": "KgI5UP8G9G4J"
      },
      "outputs": [],
      "source": [
        "# chargement de données\n",
        "with open(restos_json_path) as f:\n",
        "    data_resto = json.load(f)\n",
        "\n",
        "with open(reviews_json_path) as f:\n",
        "    data_reviews = json.load(f)\n",
        "\n",
        "with open(users_json_path) as f:\n",
        "    data_user = json.load(f)"
      ]
    },
    {
      "cell_type": "code",
      "execution_count": null,
      "metadata": {
        "colab": {
          "base_uri": "https://localhost:8080/"
        },
        "id": "roTtugw593M3",
        "outputId": "08be791c-1835-41f5-ea8c-939556396c60"
      },
      "outputs": [
        {
          "output_type": "execute_result",
          "data": {
            "text/plain": [
              "{'business_id': 'fCFUlCHG4spZ3O0vbqnYjA',\n",
              " 'name': \"Pat's Pizzeria\",\n",
              " 'address': '2008 W Newport Pike',\n",
              " 'city': 'Wilmington',\n",
              " 'state': 'DE',\n",
              " 'postal_code': '19804',\n",
              " 'latitude': 39.715031,\n",
              " 'longitude': -75.634876,\n",
              " 'stars': 2.0,\n",
              " 'review_count': 5,\n",
              " 'is_open': 1,\n",
              " 'attributes': {'BusinessAcceptsCreditCards': 'True',\n",
              "  'NoiseLevel': \"u'average'\",\n",
              "  'OutdoorSeating': 'False',\n",
              "  'Caters': 'True',\n",
              "  'BikeParking': 'False'},\n",
              " 'categories': 'Pizza, Restaurants',\n",
              " 'hours': None}"
            ]
          },
          "metadata": {},
          "execution_count": 5
        }
      ],
      "source": [
        "# affichage des json\n",
        "data_resto[36]"
      ]
    },
    {
      "cell_type": "code",
      "execution_count": null,
      "metadata": {
        "colab": {
          "base_uri": "https://localhost:8080/"
        },
        "id": "PGjkPQvC95cD",
        "outputId": "d16a15ef-7188-4174-976c-b3f1b8d08614"
      },
      "outputs": [
        {
          "output_type": "execute_result",
          "data": {
            "text/plain": [
              "{'review_id': '2xlNGuN8naQTHO3_xY0lGw',\n",
              " 'user_id': '8rrmvJ7W3ujplXuOhjE2Hg',\n",
              " 'business_id': 'yDiWYpuzRxcTgSi_O4JZpQ',\n",
              " 'stars': 5.0,\n",
              " 'useful': 0,\n",
              " 'funny': 0,\n",
              " 'cool': 0,\n",
              " 'text': \"This is the place for authentic Indian street food. I've been here multiple times ordering different things ranging from bhel puri, pav bhaji, vada pav, deconstructed samosa and aloo tikki, dabeli, kulfi and more. Everything was made exceptionally well.\\n\\nI regret not having found this place sooner.\",\n",
              " 'date': '2017-03-27 13:27:52'}"
            ]
          },
          "metadata": {},
          "execution_count": 6
        }
      ],
      "source": [
        "data_reviews[0]"
      ]
    },
    {
      "cell_type": "code",
      "execution_count": null,
      "metadata": {
        "colab": {
          "base_uri": "https://localhost:8080/"
        },
        "id": "80cZr-G--14B",
        "outputId": "66f239dd-adac-4d86-e2ee-84d13fdc43b7"
      },
      "outputs": [
        {
          "output_type": "execute_result",
          "data": {
            "text/plain": [
              "{'user_id': 'XLs_PhrJ7Qwn_RfgMM7Djw',\n",
              " 'name': 'Weili',\n",
              " 'review_count': 90,\n",
              " 'yelping_since': '2009-07-12 14:34:54',\n",
              " 'useful': 71,\n",
              " 'funny': 21,\n",
              " 'cool': 19,\n",
              " 'elite': '',\n",
              " 'friends': [],\n",
              " 'fans': 1,\n",
              " 'average_stars': 3.62,\n",
              " 'compliment_hot': 0,\n",
              " 'compliment_more': 0,\n",
              " 'compliment_profile': 0,\n",
              " 'compliment_cute': 0,\n",
              " 'compliment_list': 0,\n",
              " 'compliment_note': 1,\n",
              " 'compliment_plain': 3,\n",
              " 'compliment_cool': 0,\n",
              " 'compliment_funny': 0,\n",
              " 'compliment_writer': 0,\n",
              " 'compliment_photos': 0}"
            ]
          },
          "metadata": {},
          "execution_count": 7
        }
      ],
      "source": [
        "data_user[0]"
      ]
    },
    {
      "cell_type": "markdown",
      "metadata": {
        "id": "CvkydAefArwg"
      },
      "source": [
        "### Data Transformation"
      ]
    },
    {
      "cell_type": "code",
      "execution_count": null,
      "metadata": {
        "id": "BIfYn8c-_EoC"
      },
      "outputs": [],
      "source": [
        "import pandas as pd\n",
        "\n",
        "\n",
        "# Fontion permettant de convertir les données json en csv \n",
        "\n",
        "def to_csv(users_cols,reviews_cols,restos_cols):\n",
        "  \n",
        "  # to_df\n",
        "  users_df = pd.DataFrame(data_user)\n",
        "  reviews_df = pd.DataFrame(data_reviews)\n",
        "  restos_df = pd.json_normalize(data_resto)\n",
        "\n",
        "  # prendre uniquement les cols qui comptent\n",
        "  users_df = users_df[users_cols]\n",
        "  reviews_df = reviews_df[reviews_cols]\n",
        "  restos_df = restos_df[restos_cols]\n",
        "\n",
        "  # to_csv\n",
        "  users_csv = users_df.to_csv(\"users_csv.csv\",escapechar='\\\\', quotechar='\"', quoting=csv.QUOTE_ALL)\n",
        "  reviews_csv = reviews_df.to_csv(\"reviews_csv.csv\",escapechar='\\\\', quotechar='\"', quoting=csv.QUOTE_ALL)\n",
        "  restos_csv = restos_df.to_csv(\"restos_csv.csv\",escapechar='\\\\', quotechar='\"', quoting=csv.QUOTE_ALL)\n",
        "\n",
        "  return users_csv,reviews_csv,restos_csv\n"
      ]
    },
    {
      "cell_type": "code",
      "execution_count": null,
      "metadata": {
        "id": "4qoUtAmUKfn_"
      },
      "outputs": [],
      "source": [
        "# Les colonnes qu'on aura besoin pour le calcul des score\n",
        "restos_cols = [\"business_id\",\"name\",\"address\",\"city\",\"state\",\"stars\",\"review_count\",\"attributes.RestaurantsPriceRange2\",\"attributes.Ambience\",\"categories\"]\n",
        "reviews_cols = ['review_id','user_id','business_id','useful','cool','text','date','stars']\n",
        "users_cols = ['user_id','name','review_count','friends','cool','elite','fans']"
      ]
    },
    {
      "cell_type": "code",
      "execution_count": null,
      "metadata": {
        "id": "UFFrr7M-Eq0T"
      },
      "outputs": [],
      "source": [
        "users_csv, reviews_csv,restos_csv = to_csv(users_cols,reviews_cols,restos_cols)"
      ]
    },
    {
      "cell_type": "code",
      "execution_count": null,
      "metadata": {
        "id": "ZdaaMGE4zYwR"
      },
      "outputs": [],
      "source": [
        "users_csv_path = \"/content/users_csv.csv\"\n",
        "review_csv_path = \"/content/reviews_csv.csv\"\n",
        "restos_csv_path = \"/content/restos_csv.csv\""
      ]
    },
    {
      "cell_type": "code",
      "execution_count": null,
      "metadata": {
        "id": "fW-_q4sZ-BUJ"
      },
      "outputs": [],
      "source": [
        "# Fonction permettant d'afficher un fichier csv sur n lignes\n",
        "def print_csv(path,n):\n",
        "  # opening the CSV file\n",
        "  with open(path, mode ='r')as file:\n",
        "    # reading the CSV file\n",
        "    users_csv = csv.reader(file)\n",
        "    # displaying the contents of the CSV file\n",
        "    c = 0\n",
        "    for lines in users_csv:\n",
        "      if c < n:\n",
        "        print(lines)\n",
        "        c+=1"
      ]
    },
    {
      "cell_type": "code",
      "execution_count": null,
      "metadata": {
        "colab": {
          "base_uri": "https://localhost:8080/"
        },
        "id": "rMw92Z-az1WQ",
        "outputId": "aeae60c7-cd4f-496e-cb89-98d07eaebc11"
      },
      "outputs": [
        {
          "output_type": "stream",
          "name": "stdout",
          "text": [
            "['', 'user_id', 'name', 'review_count', 'friends', 'cool', 'elite', 'fans']\n",
            "['0', 'XLs_PhrJ7Qwn_RfgMM7Djw', 'Weili', '90', '[]', '19', '', '1']\n",
            "['1', 'IpLRJY4CP3fXtlEd8Y4GFQ', 'Robyn', '518', \"['y3Wtx1pOvTiqsJRkjceXiw', '_BcWyKQL16ndpBdggh2kNA', 'lRRuTimITgwzoXLIM3g9qw', 'z02XKjGqJMONH59_lUHlTQ', '47K1MpOBhigOvjuBcDbm7Q', '2-RlTk9dJNpj85MR2B46Cg', '_hPjqzQDiyw1-4U_IAETpg', 'dhLizr4a2oydrv15y56r0A', 'rkxGrjk2WeAT5ZMfChT3kw', 'pbCb0Tz0KQ0kkgaxzhWhoA', 'Ed0GuUa_1UjbSk8qaQsHlA', '_LNCGYNoGKxyVUag3EG0-g', 'B9iPTih0dmpZn6fRyZnLLg', 'gTrKXmAx1ytdvh1xutIlfA', 'u1gUbwyeBe8mtV97hZyImg', 'UiRx8jyS6H957ItwFsP2nQ', 'IPxJLWpKptzpTWlfjFiuHA', 'srETv2HpH9fQ-7wCvCAQng', 'cUB2WhICFuSe7DwXAIoo0g', 'vU9_lZqJQIR8btUYw7fqxA', 'pLZIZXIebqEcrX7IVKoJRg', 'IWxNILja-WvurTuJWJ4skA', '63hpZgj7peTKizDs4zeKZA']\", '348', '2009,2010,2011', '35']\n",
            "['2', '0juMoWXC7z4c7LgQP2s3sA', 'JR', '199', \"['46Wi08T5D3phf3SMgi7U3w', 'HUxktqjf5kJm0tIHTCCwsQ', 'X-8WUdJ1hYidYXQygzTEBw', 'sGaoPWB_p1aOm5z9cnV3Aw']\", '131', '2013,2014,2015,2016', '9']\n",
            "['3', 'FlhZYUEhfpfm0Ynxacftwg', 'Kate', '94', \"['UiRx8jyS6H957ItwFsP2nQ', 'Oi1qbcz2m2SnwUeztGYcnQ', 'Vgk5Cnye-wjiSMGDBKoK9w', 'Zpb3qkFUeQOY5e8ZrNeGaQ', 'kTpsjDUhl9BlRl0FVuNreA']\", '80', '', '6']\n",
            "['4', 'PadmV2GEoA6mWpQUpPh7Ig', 'Monica', '695', \"['hHoigAK81AtqSUtBmkqWjg', 'wZPizeBxMAyOSl0M0zuCjg']\", '861', '2010,2011,2012,2013,2014,2015', '104']\n",
            "['5', '1-gnHNzZNbn8lFwYRF_CtA', 'Liz', '112', \"['-NbeVN5tnwdyYAvdNkKMjw', 'rm92EiaA7h5lLbAK5dJKcw', '47K1MpOBhigOvjuBcDbm7Q']\", '256', '2012,2013,2014', '36']\n",
            "['6', 'UJEjJgi1xpmLR4b3J8fn2Q', 'Ken', '341', \"['6WG2IGTVr-xKn0pYQZJGjw', '61FNJUiDqXReViksOYiILQ', 'Wmux4GgQkNBGz4mb0BBT3w', 'X-8WUdJ1hYidYXQygzTEBw', 'j_orXueAYJBft-VUNbs1IA', '31_OzcUIfroEoSqpYuPQuw', 'ppsm8EDKjA1fp1yTCP3RrQ', 'AvGJVv7Z3a0q1MJT1Ykd0w', 'P9hbcVoZIPKF4gV8KH427A', '46Wi08T5D3phf3SMgi7U3w', 'B4cnr5d2S_7McR3XBfrscA', 's_ushMFjAYjIvszJW2gOhQ', 'mzL0zHFGyd9866OUljq49g', 'hVPyu7QWaSQgOlz0rppmkg', '7ZauzmeTHuR-8FqnmJbOtA', 'lRRuTimITgwzoXLIM3g9qw', 'ZCVEZmTB_StK-UXA3WPVlQ', 'oknU9tuT6R16XlolOBnWHw', 'NMOxipsnXc6olWdHYzXiYA', 'EouCKoDfzaVG0klEgdDvCQ', 'TR7ezcRznfr1Jif7euZZJg', 'FlXBpK_YZxLo27jcMdII1w', 'v4KYRLFGmeqwlntnDbJ4Uw', 'fYB4nPD2Y0uXXpVo20ZrNg', '-hKniZN2OdshWLHYuj21jQ', '_hPjqzQDiyw1-4U_IAETpg', 'hv2VFkaZpwdVSl-VdNfitw', '5G2IF0VIN3Brl-m45QDXsA', 'GcdYgbaF75vj7RO6EZhPOQ', 's-xVBnGjW1U4iqbTJRSu7Q', 'cUB2WhICFuSe7DwXAIoo0g', 'HigkMf3t7YE_X0D49Vd7jQ', '_BcWyKQL16ndpBdggh2kNA', 'cIVmIJD7nIiEcVGamfBoVw', 'wWa9X07Cq8EVaqJrA5QKyA', 'FC2VrNn9SmcchQc31D1mHA', 'C6YEJOh2TUgBUqwWN6a4cQ', 'Dn9WngLhC-utqIS07IlP2A', 'dqucQwA-CHWhUczwqIxKKg', 'Zpb3qkFUeQOY5e8ZrNeGaQ', 'TFvhSVpxUgZWks1cZqpakA', 'RKULSOrIvvYpDmtuYXEXzA', 'XQk-XZKwNim2fsc8_LHksA', 'zhDIG_fmwym2xJssR3bmcQ', '8EMU7d4pCkdqUnvlIW40CA', 'Ch759-9JBBu-UafQ2-abYQ', 'XuaqlmZdRldcw97I_TtX9w', 'K17847uudqPFPIjSPgxs2A', 'u7lGgwVTmPaILJ0C1CwnHg', 'BmVwbsL8l0imz4slonyMaA', '6Mv-qMJyxSokCu8YFM1o0A', 'fCvMnJU1Z-XhAjKg99wK3Q', 'TOj5yZZEwS3J3fLgo3V3yQ', '8wQIoFapkegkC5fcVYg_Iw', 'EQpFHqGT9Tk6YSwORTtwpg', '-G7Zkl1wIWBBmD0KRy_sCw', 'ZcogXYI50Ja_6b4CdEG_0Q', 'vbEf26yXYP0WBsveEXWIlw', '6Yy4vdVpfmy19SigDdVZtA', 'Oi1qbcz2m2SnwUeztGYcnQ', 'y3Wtx1pOvTiqsJRkjceXiw', 'vU9_lZqJQIR8btUYw7fqxA', 'KuYOQa9gGKK9h1HfvRDAMA', 'SeWsQoYPbQuMAqfRNNS6Jg', 'sGaoPWB_p1aOm5z9cnV3Aw', 'NNgQ8fV5ARQgHw-Ob7l50A', 'KeuhteHe76DxDlXnkWoDwA', 'DSG2QzgGD_0QgNGqYITraw', 'OLGQ7alK4VKl3YdQk6UF5g', 'GqEF3Wh2e8Q2G2pN7JivrA', 'R0NPQEVtdE-3atyhMFt6PQ', '6kJFLAHV-tNsBEZaRTqEWQ', '6pbNMgTnSYrtPHDN07IXwA', 'tUW0AXg4C3H9TP5lyhoQuA', 'IfiZzbPMZvlQ94IffHV7kg']\", '583', '2011,2013,2014,2015,2016,2017,2018', '35']\n",
            "['7', '7LmJ87EijrHcoYRu9WgoHg', 'Jack', '1050', \"['XYSDrIef7g4Gmp3lNFVO6A', '1vB6Olfkba7Sb-Y6TfiB0Q', '6Mv-qMJyxSokCu8YFM1o0A', 'TOj5yZZEwS3J3fLgo3V3yQ', 'JcB4XA0zxlx6F4b4MUT0Hg', 'xvZ6w6zoogvvcEu2Shz88A', 'BcovypoLnNk7LGsnBEN9_A', 'Oe4LLtN1tn46sDUM-BSX_A', 'We9qK9M-oI6LUULbQo_InQ', 'RKULSOrIvvYpDmtuYXEXzA', 'hUC20Pp-3Cj9jbBRYjn4wQ', 'huayr-WjhExgJPIZcRhZIQ', 'DMx9EJox_ZlUHgrQE5JvGw', 'EiT_pSuIb08oRn4CfwfMJg']\", '2925', '2008,2009,2010,2011,2012,2013,2014,2015,2016,2017,2018', '117']\n",
            "['8', 'FH14lvoIAKhva9KVgvzKJw', 'Dylan', '34', '[]', '13', '', '2']\n",
            "['9', 'kLm3B6LeboEZWX_4otpILA', 'Izzat', '1670', \"['Oi1qbcz2m2SnwUeztGYcnQ', 'RPJD8hqBnROZREuUc7liEA']\", '239', '2011,2012,2013,2014,2015,2016,2017,2018,2019,20,20,2021', '35']\n",
            "['10', 'VFXKRVzEMbnsDcYFdwiiuA', 'Kent', '1072', \"['J9c0XM-wV_KQmtZYxvIFFQ', 'Oi1qbcz2m2SnwUeztGYcnQ']\", '288', '2010,2011,2012,2013,2014,2015,2016,2017,2018,2019', '22']\n",
            "['11', 'y5qEpAfJQaOjjG8ZJWrp6w', 'Jill', '333', \"['6Mv-qMJyxSokCu8YFM1o0A', 'ljDvuID7AyHmJ0GJqfV5_A', 'mqXEVHLZI5B40WNbID17Vw', 'TA_7dlpIA5rGx-oiyhiAIA', 'pTvR_xN-sWY5-jakTKw1ag', 'rbTtgeU7eVNbj6hiKdA7jw', 'y3Wtx1pOvTiqsJRkjceXiw', 'r1WDuGy68RvaBzQ58hod8A', 'kaa6i7IHMyYIom7DIul9EQ', 'dlaUfTvPZyeNVhFjK3EOcQ', '9piMEmpL9nfG8OBA31Ihlw', 'TMvp5YDUtrwHF4qS1eHseg', '4-lVJUDmcKvknzCzpzNNUA', '_SRkg8TO8BSfSrcLLTming', '0vIpp7kFVgrM0ADkH_NA2g', 'ZHetlfbMxwAdW2Uas-_Oyw', 'lsX3yn80H87nFY36Xkkc8Q', 'GjVo48jr63RsTg0uwrdkWw', 'XQk-XZKwNim2fsc8_LHksA', '1ih5oVcSPxjy5_b1STBgyg', 'owQqWfiEnsHGJIcrzDJ_Xw', 'AvGJVv7Z3a0q1MJT1Ykd0w', '6BofTeZVuAsbHh69aOEtCA', 'w_ulWOjbIYa0seIc87wkdw', 'NdIuevq5RxeaIdAM74-5_Q', '_BcWyKQL16ndpBdggh2kNA', 'xJe2bKX81FeKdBXfDye_7Q', 'BmVwbsL8l0imz4slonyMaA', 'Oi1qbcz2m2SnwUeztGYcnQ']\", '509', '2007,2008,2009,2010,2011,2012', '32']\n",
            "['12', '-tnodf38uCXjogMhZtcWxw', 'Matt', '453', '[]', '126', '', '7']\n",
            "['13', 'mZHk_DPbeUTQBZOBOyoqlA', 'Erin', '280', \"['ZZ0fsmQf-VLTrSv0T9_cZA', '7ijRyJFoy7IebLa5r0fJRg', 'bfoWSqve91gVnhUwMm_KJQ', 'CHeMEder5ijEoCPLWjto_Q', 'UiRx8jyS6H957ItwFsP2nQ', '1Z2CVv2zDnb7Dg_j_S7rOg']\", '247', '2012,2013', '28']\n",
            "['14', 'GG0mFsEXb-02_dzFPqRV1Q', 'Mandy', '754', \"['Oi1qbcz2m2SnwUeztGYcnQ', 'jAP_EiSAz9r3q7o3ZGAS8g', 'UiRx8jyS6H957ItwFsP2nQ', '5G2IF0VIN3Brl-m45QDXsA', 'Wmux4GgQkNBGz4mb0BBT3w', 'pPLZVbmjcG7OPIbmR1q8JA', 'mzL0zHFGyd9866OUljq49g', '-NbeVN5tnwdyYAvdNkKMjw', 'jtkXg-OITT1Wvq0jCpLudA', 'z02XKjGqJMONH59_lUHlTQ', '_BcWyKQL16ndpBdggh2kNA', 'Zp1o52IRl92dunmsfiT96g', '9Vv0TwCtWTebVGB29uml3A', '_hPjqzQDiyw1-4U_IAETpg', 'vLsNkiz6TXXVFfxQxi3oSA', 'RKULSOrIvvYpDmtuYXEXzA', '135DbbQnr3BEkQbBzZ9T1A', 'IMVZIi7x3d3NIQH1T5MN-Q', 'dqucQwA-CHWhUczwqIxKKg', 'hL7P5o46JKPbDm9O6hw9Ng', 'FlXBpK_YZxLo27jcMdII1w', 'GfI-d9mQePFA2PvhAd4WGQ', 'fCvMnJU1Z-XhAjKg99wK3Q', 'MEgTog8Eot2kupiPE_1pmA', 'RCXX__k3R2Zf1kzmTpopWA', 'qIVLLE6twbV_33WpiGIzDw', '5qN309JwiJ8UGDUdkzA6fg', 'vU9_lZqJQIR8btUYw7fqxA', 'BmVwbsL8l0imz4slonyMaA', '0efhiL1BfEuRKyQT8VXuLQ', 'p1EiD_VGJfAQwo543FmQog', 'gWZETLPu_ihAtLOYtrm0mw', 'gXpVmuIiaVJrskxQ0eDj3Q', 'xDVd1YGZ3KN0JAJE1y__BQ', 'NGGd_11d2RXR8wTurenLgg', '6pbNMgTnSYrtPHDN07IXwA', '-FZBTkAZEXoP7CYvRV2ZwQ', 'e07N9h4zSveDeex9qTJegQ', 'E53n5hlS77UzW4TVr_73vA']\", '988', '2011,2012,2013,2014,2015,2016,2017,2018,2019,20,20,2021', '57']\n",
            "['15', 'nPJw7YpKgHE6fowxgl3l1A', 'Abbie', '157', \"['mzL0zHFGyd9866OUljq49g', 'P9hbcVoZIPKF4gV8KH427A', '61FNJUiDqXReViksOYiILQ', 'Lrk7Q6eJcu1nyDdW0SMiKw', '0YyF7OrD2VEUVUiYmKZ8MA', 'pbCb0Tz0KQ0kkgaxzhWhoA', '5G2IF0VIN3Brl-m45QDXsA', 'Oi1qbcz2m2SnwUeztGYcnQ']\", '58', '2012,2013,2014,2015', '15']\n",
            "['16', 'k_muz40jJaiY1PVga6NDXA', 'Louis', '1070', \"['JcB4XA0zxlx6F4b4MUT0Hg', 'I6YARR1VloAua-buFULo1Q', 'Oi1qbcz2m2SnwUeztGYcnQ', 'uGmPjuszV7NTbgUci9fo5w', 'dqucQwA-CHWhUczwqIxKKg', 'Lrk7Q6eJcu1nyDdW0SMiKw', 'RKULSOrIvvYpDmtuYXEXzA', 'ACwBMSJzgW6vOvV7vOrk8Q', 'vU9_lZqJQIR8btUYw7fqxA', 'pdAm41Q17MJ2VkMNak1mvw', '_BcWyKQL16ndpBdggh2kNA', 'EQpFHqGT9Tk6YSwORTtwpg', '6pbNMgTnSYrtPHDN07IXwA', 'jkqhSCrMpTaxTp0TFwKjeQ', 'MnYfi2DODiZkLIwJFuwB2g', '7ZauzmeTHuR-8FqnmJbOtA', 'NGGd_11d2RXR8wTurenLgg']\", '1047', '2008,2009,2010,2011,2012,2013,2014,2015,2016,2017,2018,2019,20,20,2021', '64']\n",
            "['17', 'ojxS1v-8nUvEEx4DlsPQrA', 'Kristin', '655', \"['HvQ45V3LxGbY6-YZ97cvqQ', '5G2IF0VIN3Brl-m45QDXsA', 'xfy_Lb4BhhQUt9YZhxkNaw', '-lbNYxWHPkLJYf891XueRQ', 'oxJJ0N82GFZeBCxBi6vH1A', 'Oi1qbcz2m2SnwUeztGYcnQ', 'FI87kNj8UDSSnmhwXsRnjQ', 'hwB9QTmjZRd48mbGPcnw8Q', '135DbbQnr3BEkQbBzZ9T1A', 'UiRx8jyS6H957ItwFsP2nQ', 'dqucQwA-CHWhUczwqIxKKg', 'WIdUAxJqXKp2imC_BfcxMg', '2OiyOHo7CQY05bFwY55HjA', 'zZnqYvA3pXZA1pkyMjNfjg', 'HBLDsdGpWd13cnu6hoeR5w', 'qEQob9pzNanp9BZbCiUUwQ', 'ZcogXYI50Ja_6b4CdEG_0Q', 'gWZETLPu_ihAtLOYtrm0mw', 'KeuhteHe76DxDlXnkWoDwA', 'FOC5dArAp-ZPzMsJLYoZDQ', 'BmVwbsL8l0imz4slonyMaA', 'lN_sKVrvdQA_N58IhpSEyQ', '61FNJUiDqXReViksOYiILQ', 'kTpsjDUhl9BlRl0FVuNreA', 'wnrHhjDpQk5uLUK7Iku75A', 'XuhpPK0bZgVenkGBh7KA6w']\", '290', '2011,2012,2013,2014,2015,2016,2017,2018,2019,20,20,2021', '34']\n",
            "['18', 'SBpz4xJ8MnrzXOpWiETCyw', 'Joe', '37', \"['1sH89m2CFbR703kjJ2vA9w', 'X1BquFYJoqw4IOSy7FIhMQ', '_BcWyKQL16ndpBdggh2kNA']\", '21', '', '4']\n"
          ]
        }
      ],
      "source": [
        "# csv user \n",
        "print_csv(users_csv_path,20)"
      ]
    },
    {
      "cell_type": "code",
      "execution_count": null,
      "metadata": {
        "colab": {
          "base_uri": "https://localhost:8080/"
        },
        "id": "H46361Wsz5Vr",
        "outputId": "39086e89-5917-4101-fdd0-d3350e4829cc"
      },
      "outputs": [
        {
          "output_type": "stream",
          "name": "stdout",
          "text": [
            "['', 'review_id', 'user_id', 'business_id', 'useful', 'cool', 'text', 'date', 'stars']\n",
            "['0', '2xlNGuN8naQTHO3_xY0lGw', '8rrmvJ7W3ujplXuOhjE2Hg', 'yDiWYpuzRxcTgSi_O4JZpQ', '0', '0', \"This is the place for authentic Indian street food. I've been here multiple times ordering different things ranging from bhel puri, pav bhaji, vada pav, deconstructed samosa and aloo tikki, dabeli, kulfi and more. Everything was made exceptionally well.\\n\\nI regret not having found this place sooner.\", '2017-03-27 13:27:52', '5.0']\n",
            "['1', '_Dkml_CfMMb_wWeGpFtczg', 'TRFTDMJegE6DituEKBpEKQ', 'W6S482dRQ_9nCcLjfv8VNg', '0', '0', \"Food was great. But very disappointed with the hospitality. We  entered the restaurant at 9:15 pm but was denied dine in and was told that though the  restaurant closes at 10 pm they won't let us dine in and can give only to go. They saw that there were two pregnant women and a kid with us and I explained that our home is a hour drive from there and yet they denied for no reason. I had to drive back to home and make everyone eat. Very disappointed with such attitude towards customers. Never going back here. Let them try to forgive them self for denying dining for pregnant women.\", '2016-07-04 04:17:15', '1.0']\n",
            "['2', 'EmLTCw2p9BhOwnzHFXgGaQ', 'glO-c9FC0RaY2GyiamCQFA', 'OlOVRlcEstxKK_6hMjy63A', '0', '0', \"One of the few diners in North Wilmington, and the only one that probably isn't really bad. I've had totally ordinary diner fare here, and used to come by after swim meets. Nothing particularly good or bad about this place.\", '2014-08-25 03:05:45', '3.0']\n",
            "['3', 'PlYifdeyiixRZkymbUNqVQ', 'cFaHx-FkCnzdfF8BccukIg', 'DAcqRGI_u8yNCcUIczfNxA', '1', '0', \"Yeah, I know what you're thinking. One Wawa store is pretty much the same as another, so why even bother writing a review? But I think we have a winner here.\\n\\nWhen this Wawa store opened for business, gas prices at gas stations all along Concord Pike fell by 30 cents per gallon just to compete with them. Sure, this Wawa store could've followed the general pricing in the area and lowered prices just a few cents, keeping the bulk of the profit. But no, they'll have none of that. I love a store that is on the side of my wallet!\\n\\nSecondly, I love the automatic start/stop digital air pump. So far, I've only seen that at BJ's Wholesale and Sheetz. It's a snap to use and I get the exact tire pressure every time.\\n\\nAs for service, they seem nice and relatively efficient. The internal layout of the store is the new style that I first saw in Newark. Having separate non-cigarette cashier lines may speed things up in peak periods, although I've never been there during the day, so I wouldn't know.\", '2013-12-07 01:28:16', '5.0']\n",
            "['4', 'PtUd264rjqWuEzL89nf64w', 'hefsTMvc-iSBsY_Nfa8WCg', '5IFqqWJTaPNoY2ZgRlX73w', '0', '0', 'My boyfriend and I have lived in trolley square for about three months now and tend to stick to the same restaurants.  We went out the other night planning on El Diablo and decided to try this cute little Italian restaurant. We are so glad we did! First off, the waiter was awesome, so friendly and on top of it.  He told us the history of the restaurant and gave us some good suggestions. The food was some of the best Italian food I have had in a long time. You can tell everything is made fresh.  The bread was delicious and a new recipe the owner received from his brother who lives in Sicily. We started off with the prosciutto wrapped Shrimp with a yummy sauce. I ordered the Penne Alla Vodka and my boyfriend ordered the traditional spaghetti and meatballs. The sauce in both dishes was excellent! The portions were a decent size with plenty of leftovers for my lunch the next day.  Finally, the cannoli was the best I have ever had! My boyfriend has been to Italy and said it was just as awesome as the ones he tasted there. I would highly recommend this restaurant to anyone looking for a delicious Italian meal for a good price.  The special he night we went was order two entrees and get any appetizer for free! Check this place out!', '2015-05-26 20:32:51', '5.0']\n",
            "['5', 'jh63cU95B-Kjgyev_a_4oQ', 'uXI02ZXkTrVfjcs8ogfAhQ', 'ixsljpxu56VCTtayIELqUg', '0', '0', \"I went back here and either I didn't remember the prices  (because someone else had paid last time) or their prices had gone up. It was almost $20 for 2 basic sushi rolls!! While the portions are big, they aren't filling enough to justify such a high price for 2 rolls for lunch. Will not be coming back at those prices.\", '2016-08-25 16:17:56', '3.0']\n",
            "['6', '2DUxwJgRW1Ds_EN763CiQQ', 'yFY8vpUER318VtlT-FV0zA', 'ixsljpxu56VCTtayIELqUg', '7', '0', \"This is my favorite in Delaware.  The menu is simple and perfectly executed.  Rolls are reasonably priced, artfully made and are PACKED with fish!  I do believe they use flash-frozen sashimi grade fish, but the color, texture, taste and smell are perfect.  Easily the best spicy tuna I have ever had.  I think the secret is the kewpie mayo along w/ the right amount of sriracha and sichimi powder.  Frankly, I can't get enough of this place and have at times, eaten it every day for lunch for weeks.  I've gone as far as to pick it up for dinner AFTER having had it for lunch. Their introduction of short-grain brown sushi rice has been great!\\n\\nThe Sushiman, YC Park is amazing to watch.  I've seen him skin a cucumber with a sword-like sushi knife in no time flat, in a single ribbon and then continue to shave it into a nori thin sheet for his tuna naruto roll roll.  The temaki are as big as a carnival iced cream cone.  You can barely finish one of them, there is so much fish in there.  The nigiri are beautiful.  Uniform pieces of fresh fish, perfectly perched on the best sushi rice I've ever had (just the right amount of vinegar and sugar).\\n\\nSkip the newly opened Kooma.  Save Mikimotos for a night out, but go to Tokyo for lunch!  The owners are lovely, so support them in this tough economy.  If you must eat sushi, eat it here!\\n\\nWhy not 5 stars?  I have to save it for places that serve the local fresh fish, plucked out of the water that morning.  Let me know if you find a place that does!\", '2009-05-20 20:13:38', '4.0']\n",
            "['7', 'lV_V_FklhhmMaWRXAB_tyA', 'pDb21-rXH8Kp7o8VnhPXfw', 'EROSyhoWNCUH53NrDrsHgQ', '2', '0', \"Excellent service, food, and price! If you want easy-going atmosphere like you had when you were a child \\nback in the day at grandma's house then this is the place to be!\", '2014-10-11 06:43:13', '5.0']\n",
            "['8', 'OaYClWZ3UyrAWo60tGCVsg', 'duKhEm4zoR5G2nllvoxqgQ', 'ggJXlslLYndvE7n3hgJBCQ', '3', '0', \"I was walking on Delaware Ave looking for an ATM and a cup of coffee and wandered into the ING Cafe. After tapping my account, I walked around a curving wall and stepped into a very open, lively and orange public space. I had an excellent cup of Peet's, free WiFi, but honestly, the people watching was so good, I got very little real work done. Great spot to crash and get a cup, excellent vibe. So nice, you will wonder if you are really allowed to just walk-in like that.\", '2009-05-23 12:02:01', '4.0']\n",
            "['9', 'TM1PkkUDSMpb0ijfePRmBQ', 'tNmMjWPcQk8zeUR0phG8UQ', 'ccEgmgcc5uLJejser0UD0g', '1', '0', \"This is a great breakfast sandwich spot. Affordable prices and tasty bagels, my favorite is garlic. I wasn't blown away with the lunch options but I would recommend this place for breakfast to my friends and family. Their quality is WAY better than Dunkin Donuts sandwiches. However, the man and woman behind the counter are very rude and it's a shame becuase the owner seems like such a nice man. They have ignored customers standing in a long line to hold conversations and move extremely slow as if no one has anywhere to go. Don't bother calling an order ahead becuase chances are they won't answer the phone during breakfast hours.\", '2017-03-15 15:52:58', '4.0']\n",
            "['10', 'sw_4E8mRaRFjU-oCcWvfDQ', '71_DHzOBVFqm8QcnMg_9nA', '7O7YHTUB3uqXHsQSLKR0SA', '0', '0', \"Burrito Ranchero kicks butt and takes names.  It's not for fussy people.  Simple but tasty food.  Authentic is in the eye of the beholder folks. Nuff said.........\", '2017-12-02 18:34:34', '5.0']\n",
            "['11', '_Xc59GTigWeEudLbRulLtw', 'hnBjegpdsr9rqMBD4qf3Yw', 'CKKY7kxtznKVzm9FBzAL4w', '0', '0', \"If I could give negative stars I would. Terrible service. No one acknowledged me for over 10 minutes and that's only because I was leaving. The other customers told me don't bother ordering because I've been waiting over 30 minutes.\", '2017-09-08 22:49:35', '1.0']\n",
            "['12', '1WFRWOUQjfl0R2eH6veBnQ', 'C3g8rpjTzTdxmujnHaR1Tw', 'ThZyytdc_kj2uBYFiSao-A', '0', '0', 'I wish I could give zero stars to this poor excuse for a restaurant... On the way back from Philly to our beach house recently, my wife and I stopped in for a sandwich.  We were led to a nice booth and greeted by a young girl waitress.  My wife ordered a grilled cheese and asked for some DICED tomatoes in it.  The young waitress repeated the order back and said of course- no problem.  I ordered the veggie bean burger and she asked how would I like it cooked- which was odd, but I added \"medium please\".  I ordered iced tea for my wife and me and added onion rings to my order.  A full 28 minutes later our sandwiches appeared.  My wife\\'s order came with SLICED tomatoes- no biggie- and she just ate it anyway,  I attempted to bite my burger and  roll and nearly broke a tooth on the over-microwaved wheat roll. My wife laughed as the entire burger fell out onto the plate splattering ketchup and mustard on my polo shirt. 5 minutes later the waitress reappeared and I explained that perhaps something had gone awry in the kitchen and she quickly brought me a new roll.  This one was mostly frozen... so I told her never mind- I\\'ll just eat the patty and tomato/lettuce.  The patty was cardboard but I ate it anyway... my wife was busy dabbing my shirt to remove the mustard/ketchup stains when the waitress came back to apologize that the cook was overwhelmed by a party in the next room. (Odd, since there were only 8 or 9 cars in the lot outside.)  She was very timid about offering the explanation and I just accepted it as not totally her fault but rather (I assumed) an intimidating short order cook in the back somewhere.  Upon leaving, I advised the floor manager at the register very quietly about the roll and she made a face and took off three dollars from the bill since \"you ate the burger part\"... with no apology or attempt at customer service. The waitress got her full tip.   I was so angry that I vowed to open a yelp account and DID!  Avoid this place at all costs.', '2015-05-12 18:34:02', '1.0']\n",
            "['13', 'F7Ij517v1icGKajQN6IahQ', '9kMl5dY91gmSWOqYM7SXkQ', 'ThZyytdc_kj2uBYFiSao-A', '2', '1', 'The service was so very bad. We walked out after waiting half an hour for any food to appear. Avoid this place.', '2016-09-06 08:03:31', '1.0']\n",
            "['14', 'ZLVPEj5TNyYDxRXH8JndKQ', 'jnP_wqOZGUsWVMwNH5jD0A', 'psD0qpCK-iENFO9c8hmnkw', '1', '0', 'For a small local place, the crab cakes are very delicious. The restaurant is set up like a pizza shop. You order at the counter to eat in or take out. They bring the food to you if you eat in. If you order to go, they call the number on your receipt when your order is ready. \\n\\nMy fiance and I tried the place out the first week it opened. We each ordered a crab cake platter since they are known for their crab cakes. We also ordered a cup of soup each since it was cold out. The portions were small but the crab cake was very good. It was full of crab and not fillers. \\n\\nThe soups were amazing! I had a crab chowder and it was full of crab, not too creamy and great seasoning. \\n\\nThe second time we came, I ordered the crab cake sandwich. The brioche bun was a little too much for the 6 oz crab cake. I had to gut out the bun. That allowed me to enjoy the crab cake more. \\n\\nThe next day my sister came to visit and wanted to try it. This time we ordered the crab balls. Definitely not as good as the crab cakes. It was full of fillers and not a great way to introduce my sister to it. \\n\\nMy fiance and i will definitely be back to give the rest of the menu a try.', '2015-04-15 11:07:05', '4.0']\n",
            "['15', 'jt7r04KKzpy4HKjFiuqBkA', '0H91JkjnSEXlNCIRvrZxKQ', 'A_-Vv5oKZNqxsV69_7E2KQ', '0', '0', \"I cant say enough good things about brunch here. Feels like a home cooked meal in a super relaxed and great environment. Awesome drinks.the bartender siana is so good at her job and she's always smiling. I dont know what the managers name was but he was really tall and super friendly. He made sure my friends food was free of gluten and personally brought the food to us. We will be back!\", '2018-04-15 15:55:28', '5.0']\n",
            "['16', '50_IPMsBuclmeMme2r69Rw', 'NMOxipsnXc6olWdHYzXiYA', 'MZW_eTFYFBvHYg5OFqDRCA', '0', '0', \"I got a craving for a turkey burger and was in the area.  It had been over half a year since my last bad experience, so I thought I'd give it another shot.  I am happy to say that I didn't regret it.  I have been back another time since then and the service has been excellent.  Our orders were taken promptly, the correct food arrived, and my burger and fries were hot and fresh.  I tried the mushroom burger with turkey and it was loaded with mushrooms.  The server even brought us fries while we waited because it was taking longer than ten minutes.  She made sure to keep our water glasses full.  If you can, try to sit in Janesca's section, and you will be well taken care of.  \\n     The other servers I had gotten bad service from still work there as I saw a few of them walking around.  Hopefully they have improved since my bad experiences.  The only other complaint I have is this place really needs to be dusted!  It doesn't look dirty other than that, but where the carousel horses are along-side the booths is coated with a thick layer of dust.  If they fix that, I would come back more often.\", '2012-03-30 02:58:18', '3.0']\n",
            "['17', 'BsxM-F-H6Rsq66R739BKxg', 'KZNpUHqATkV6CfDMwC8HzQ', 'uoMWvXch6sWnI9FMsE_-Vg', '0', '0', 'Cafe Napoli rt 40 . That was our spot great Great great food . Fresh garlic ,fresh basil. Great people. Must try serios pescatore, scallops scampi . You can see chef cooking .', '2017-05-26 13:34:14', '4.0']\n",
            "['18', 'Je-DY6xJb3erto4rAAUAbA', 'tNmMjWPcQk8zeUR0phG8UQ', 'uoMWvXch6sWnI9FMsE_-Vg', '0', '0', \"I had the lunch special chicken with pesto sandwich with penne vodka. The penne vodka by itself would be given 4 stars because it was really good. However, the chicken had no seasoning on it. I'm not a fan of bland food. I like how they grill their chicken breast and if it had seasoning this would be a place I would go to regularly. Staff was very friendly. I can't wait to return for more penne vodka.\", '2017-03-15 15:41:51', '3.0']\n"
          ]
        }
      ],
      "source": [
        "# csv reviews\n",
        "print_csv(review_csv_path,20)"
      ]
    },
    {
      "cell_type": "code",
      "execution_count": null,
      "metadata": {
        "colab": {
          "base_uri": "https://localhost:8080/"
        },
        "id": "1KJF4eNz0A26",
        "outputId": "9ecf0a31-3d31-462b-97bb-facff43400cf"
      },
      "outputs": [
        {
          "output_type": "stream",
          "name": "stdout",
          "text": [
            "['', 'business_id', 'name', 'address', 'city', 'state', 'stars', 'review_count', 'attributes.RestaurantsPriceRange2', 'attributes.Ambience', 'categories']\n",
            "['0', 'Dy91wdWkwtI_qgjAIZ0Niw', 'Taqueria Los Primos', '3322 Old Capitol Trl', 'Wilmington', 'DE', '4.0', '23', '1', \"{u'divey': True, u'hipster': False, u'casual': None, u'touristy': False, u'trendy': False, u'intimate': False, u'romantic': False, u'classy': False, u'upscale': False}\", 'Mexican, Restaurants']\n",
            "['1', '_Oksx3ALgKLRVxeAR8l_qA', 'V-Trap Kitchen and Lounge', '607 N Lincoln St', 'Wilmington', 'DE', '5.0', '13', '2', \"{'touristy': False, 'hipster': False, 'romantic': False, 'divey': False, 'intimate': False, 'trendy': False, 'upscale': False, 'classy': True, 'casual': False}\", 'Restaurants, Mexican, Arts & Entertainment, Event Planning & Services, Italian, Gluten-Free, Nightlife, Lounges, Vegan, Bars, Caterers, Vegetarian']\n",
            "['2', '_NhT0A3LUEd75L_cEXf2_A', \"Season's Pizza\", '1721 W Gilpin Dr', 'Wilmington', 'DE', '3.0', '7', '', '', 'Restaurants, Pizza']\n",
            "['3', 'A_-Vv5oKZNqxsV69_7E2KQ', '8th & Union Kitchen', '801 N Union St', 'Wilmington', 'DE', '3.5', '177', '2', \"{'touristy': False, 'hipster': False, 'romantic': False, 'divey': False, 'intimate': False, 'trendy': True, 'upscale': False, 'classy': True, 'casual': True}\", 'Vietnamese, Asian Fusion, Bars, American (New), Restaurants, Breakfast & Brunch, Nightlife, Thai, Gluten-Free']\n",
            "['4', 'JNH-hcySeuGmtI_t8dG3Dw', 'Del Rose Cafe', '1707 Delaware Ave', 'Wilmington', 'DE', '4.0', '8', '2', \"{'romantic': False, 'intimate': False, 'touristy': False, 'hipster': False, 'divey': False, 'classy': False, 'trendy': False, 'upscale': False, 'casual': False}\", 'Restaurants, Italian']\n",
            "['5', 'ekBvLA43oEWEswUXZI0bYQ', 'Shawerma Palace', '311 N King St', 'Wilmington', 'DE', '4.5', '8', '', \"{'touristy': False, 'hipster': False, 'romantic': False, 'divey': False, 'intimate': False, 'trendy': False, 'upscale': False, 'classy': False, 'casual': False}\", 'Restaurants, Middle Eastern']\n",
            "['6', '5R6YO6K9PkthkTbXqV9slQ', 'Sakura Japanese Restaurant', '4713 Kirkwood Hwy', 'Wilmington', 'DE', '4.0', '86', '2', \"{u'divey': False, u'hipster': None, u'casual': True, u'touristy': False, u'trendy': None, u'intimate': None, u'romantic': None, u'classy': True, u'upscale': None}\", 'Japanese, Restaurants, Sushi Bars, Noodles']\n",
            "['7', 'iXemjTj5TOByT1-cNTSaDw', 'PureBread Deli', '1309 Churchmans Rd', 'Newark', 'DE', '4.0', '64', '1', \"{u'divey': False, u'hipster': False, u'casual': True, u'touristy': False, u'trendy': False, u'intimate': False, u'romantic': False, u'classy': True, u'upscale': False}\", 'Food, Bakeries, Delis, Sandwiches, Restaurants']\n",
            "['8', '5ODCsQbRdsFIWlypGF3iUw', 'Brandywine Brewing Company Restaurant & Brewery', '3801 Kennett Pike, Ste E155', 'Wilmington', 'DE', '3.0', '28', '2', \"{'romantic': False, 'intimate': False, 'touristy': False, 'hipster': False, 'divey': False, 'classy': False, 'trendy': True, 'upscale': False, 'casual': False}\", 'Food, American (Traditional), Breweries, Restaurants']\n",
            "['9', 's-7Q1GAQmB-Qsm_UwviHVA', 'Lone Star Steakhouse', '113 S. Dupont Highway', 'New Castle', 'DE', '2.0', '15', '2', \"{'romantic': False, 'intimate': False, 'touristy': False, 'hipster': False, 'divey': False, 'classy': False, 'trendy': False, 'upscale': False, 'casual': False}\", 'Steakhouses, Restaurants, Seafood, American (Traditional)']\n",
            "['10', '59fWFpyDg01BTEH-Hh6jdw', \"McDonald's\", '2702 Philadelphia Pike', 'Claymont', 'DE', '1.5', '25', '1', \"{'romantic': False, 'intimate': False, 'classy': False, 'hipster': False, 'divey': False, 'touristy': False, 'trendy': False, 'upscale': False, 'casual': False}\", 'Food, Coffee & Tea, Fast Food, Burgers, Restaurants']\n",
            "['11', 'YdpDpp130fxiX2DUdQLSqg', 'Bardea Food & Drink', '620 N Market St', 'Wilmington', 'DE', '4.5', '181', '2', \"{'touristy': False, 'hipster': False, 'romantic': False, 'divey': False, 'intimate': False, 'trendy': False, 'upscale': False, 'classy': True, 'casual': False}\", 'Bars, Restaurants, Nightlife, Italian']\n",
            "['12', 'EROSyhoWNCUH53NrDrsHgQ', \"Mary's Kountry Kitchen\", '222 Main St', 'Wilmington', 'DE', '4.0', '50', '1', \"{u'divey': None, u'hipster': False, u'casual': True, u'touristy': False, u'trendy': False, u'intimate': False, u'romantic': False, u'classy': False, u'upscale': False}\", 'Restaurants, American (Traditional), Diners, Breakfast & Brunch']\n",
            "['13', 'Vo4NZBtF3mr6EJitNnq-Wg', 'Pizzeria Maki', '4007 Kennett Pike, Ste A', 'Greenville', 'DE', '5.0', '13', '', '', 'Restaurants, Pizza, Salad, Sushi Bars']\n",
            "['14', 'xNWueX3uZjmixQUkY38GzQ', 'KFC', '1925 Lancaster Ave', 'Wilmington', 'DE', '3.0', '5', '1', 'None', 'Restaurants, Chicken Wings, Fast Food, Chicken Shop']\n",
            "['15', 'sFtEbnWDtIADseyr8Lx6Qw', \"Spice N' Nice\", '3125 New Castle Ave', 'New Castle', 'DE', '5.0', '11', '1', \"{'romantic': False, 'intimate': False, 'classy': False, 'hipster': False, 'divey': False, 'touristy': False, 'trendy': False, 'upscale': False, 'casual': False}\", 'Caribbean, Restaurants, Food']\n",
            "['16', 'ulwns2OavT81v6zG-Sk6ng', 'Wawa', '7 E Commons Blvd', 'New Castle', 'DE', '3.0', '8', '1', \"{'touristy': False, 'hipster': False, 'romantic': False, 'divey': False, 'intimate': False, 'trendy': False, 'upscale': False, 'classy': False, 'casual': False}\", 'Food, Automotive, Sandwiches, Convenience Stores, Coffee & Tea, Gas Stations, Restaurants']\n",
            "['17', 'B6zs6ywn7TfhOmmDtuWQkw', 'Farm a Sea Bistro & Crafthouse', '56 S Old Baltimore Pike', 'Newark', 'DE', '3.0', '28', '2', \"{'romantic': False, 'intimate': False, 'classy': False, 'hipster': False, 'divey': False, 'touristy': False, 'trendy': False, 'upscale': False, 'casual': False}\", 'Beer Bar, Cafes, Bars, Pubs, Nightlife, American (New), Brasseries, Restaurants']\n",
            "['18', 'qmDm7guS7TAZTSDFYY2bug', 'Pizza Hut', '3611 Kirkwood Hwy', 'Wilmington', 'DE', '1.5', '45', '1', \"{'romantic': False, 'intimate': False, 'classy': False, 'hipster': False, 'divey': False, 'touristy': False, 'trendy': False, 'upscale': False, 'casual': False}\", 'Pizza, Chicken Wings, Restaurants, Italian']\n"
          ]
        }
      ],
      "source": [
        "# csv restos\n",
        "print_csv(restos_csv_path,20)"
      ]
    },
    {
      "cell_type": "code",
      "execution_count": null,
      "metadata": {
        "id": "a40IoWyprqbg"
      },
      "outputs": [],
      "source": [
        "# Create ID DICT \n",
        "# Associé à chaque ID un int \n",
        "# Le fait de transformer les ID en valeur entiére nous permettra de bien faire la différence entre les ids\n",
        "# Et faire les tests facilement \n",
        "ID_DICT = {}\n",
        "ID_DICT_REVIEW = {}\n",
        "ID_DICT_BUSINESS = {}\n",
        "\n",
        "def create_id_dict(users,reviews,business):\n",
        "  # opening the CSV file\n",
        "  with open(users, mode ='r') as users_file, open(reviews, mode ='r') as reviews_file, open(business, mode ='r') as business_file  :\n",
        "    # reading the CSV file\n",
        "    users_csv = csv.reader(users_file)\n",
        "    reviews_csv = csv.reader(reviews_file)\n",
        "    business_csv = csv.reader(business_file)\n",
        "    # displaying the contents of the CSV file\n",
        "    c = 0\n",
        "\n",
        "    for users_lines in users_csv:\n",
        "      # si c'est pas les headers\n",
        "      if c > 0:\n",
        "        ID_DICT[users_lines[1]] = users_lines[0]\n",
        "      c+=1\n",
        "\n",
        "    c = 0\n",
        "    for reviews_lines in reviews_csv:\n",
        "      # si c'est pas les headers\n",
        "      if c > 0:\n",
        "        ID_DICT_REVIEW[reviews_lines[1]] = reviews_lines[0]\n",
        "      c+=1\n",
        "    \n",
        "    c = 0\n",
        "    for business_lines in business_csv:\n",
        "      # si c'est pas les headers\n",
        "      if c > 0:\n",
        "        ID_DICT_BUSINESS[business_lines[1]] = business_lines[0]\n",
        "      c+=1"
      ]
    },
    {
      "cell_type": "code",
      "execution_count": null,
      "metadata": {
        "id": "cJz77MH7s22j"
      },
      "outputs": [],
      "source": [
        "create_id_dict(users_csv_path,review_csv_path,restos_csv_path)"
      ]
    },
    {
      "cell_type": "code",
      "execution_count": null,
      "metadata": {
        "colab": {
          "base_uri": "https://localhost:8080/"
        },
        "id": "GYmOUJp-s517",
        "outputId": "38e57b0a-ac89-44f0-c916-f2851aae9872"
      },
      "outputs": [
        {
          "output_type": "stream",
          "name": "stdout",
          "text": [
            "23082\n"
          ]
        },
        {
          "output_type": "execute_result",
          "data": {
            "text/plain": [
              "[('XLs_PhrJ7Qwn_RfgMM7Djw', '0'),\n",
              " ('IpLRJY4CP3fXtlEd8Y4GFQ', '1'),\n",
              " ('0juMoWXC7z4c7LgQP2s3sA', '2'),\n",
              " ('FlhZYUEhfpfm0Ynxacftwg', '3'),\n",
              " ('PadmV2GEoA6mWpQUpPh7Ig', '4'),\n",
              " ('1-gnHNzZNbn8lFwYRF_CtA', '5'),\n",
              " ('UJEjJgi1xpmLR4b3J8fn2Q', '6'),\n",
              " ('7LmJ87EijrHcoYRu9WgoHg', '7'),\n",
              " ('FH14lvoIAKhva9KVgvzKJw', '8'),\n",
              " ('kLm3B6LeboEZWX_4otpILA', '9')]"
            ]
          },
          "metadata": {},
          "execution_count": 62
        }
      ],
      "source": [
        "# On peut voir que chaque ID initial est associé à une valeur entiére \n",
        "print(len(list(ID_DICT.items())))\n",
        "list(ID_DICT.items())[:10]"
      ]
    },
    {
      "cell_type": "code",
      "execution_count": null,
      "metadata": {
        "colab": {
          "base_uri": "https://localhost:8080/"
        },
        "id": "dlcoY7l6QtQR",
        "outputId": "b67dae8b-eb35-436a-df46-92d6ec9becdd"
      },
      "outputs": [
        {
          "output_type": "stream",
          "name": "stdout",
          "text": [
            "49150\n"
          ]
        },
        {
          "output_type": "execute_result",
          "data": {
            "text/plain": [
              "[('2xlNGuN8naQTHO3_xY0lGw', '0'),\n",
              " ('_Dkml_CfMMb_wWeGpFtczg', '1'),\n",
              " ('EmLTCw2p9BhOwnzHFXgGaQ', '2'),\n",
              " ('PlYifdeyiixRZkymbUNqVQ', '3'),\n",
              " ('PtUd264rjqWuEzL89nf64w', '4'),\n",
              " ('jh63cU95B-Kjgyev_a_4oQ', '5'),\n",
              " ('2DUxwJgRW1Ds_EN763CiQQ', '6'),\n",
              " ('lV_V_FklhhmMaWRXAB_tyA', '7'),\n",
              " ('OaYClWZ3UyrAWo60tGCVsg', '8'),\n",
              " ('TM1PkkUDSMpb0ijfePRmBQ', '9')]"
            ]
          },
          "metadata": {},
          "execution_count": 63
        }
      ],
      "source": [
        "print(len(list(ID_DICT_REVIEW.items())))\n",
        "list(ID_DICT_REVIEW.items())[:10]"
      ]
    },
    {
      "cell_type": "code",
      "execution_count": null,
      "metadata": {
        "colab": {
          "base_uri": "https://localhost:8080/"
        },
        "id": "09VKFt-NQyRK",
        "outputId": "31683ecf-d448-48aa-8cd3-54177906bf92"
      },
      "outputs": [
        {
          "output_type": "stream",
          "name": "stdout",
          "text": [
            "961\n"
          ]
        },
        {
          "output_type": "execute_result",
          "data": {
            "text/plain": [
              "[('Dy91wdWkwtI_qgjAIZ0Niw', '0'),\n",
              " ('_Oksx3ALgKLRVxeAR8l_qA', '1'),\n",
              " ('_NhT0A3LUEd75L_cEXf2_A', '2'),\n",
              " ('A_-Vv5oKZNqxsV69_7E2KQ', '3'),\n",
              " ('JNH-hcySeuGmtI_t8dG3Dw', '4'),\n",
              " ('ekBvLA43oEWEswUXZI0bYQ', '5'),\n",
              " ('5R6YO6K9PkthkTbXqV9slQ', '6'),\n",
              " ('iXemjTj5TOByT1-cNTSaDw', '7'),\n",
              " ('5ODCsQbRdsFIWlypGF3iUw', '8'),\n",
              " ('s-7Q1GAQmB-Qsm_UwviHVA', '9')]"
            ]
          },
          "metadata": {},
          "execution_count": 64
        }
      ],
      "source": [
        "print(len(list(ID_DICT_BUSINESS.items())))\n",
        "list(ID_DICT_BUSINESS.items())[:10]"
      ]
    },
    {
      "cell_type": "code",
      "execution_count": null,
      "metadata": {
        "id": "yBor7mypr4J7"
      },
      "outputs": [],
      "source": [
        "# Création de la relation FRIEND\n",
        "def create_friends_relations(users_data):\n",
        "\n",
        "  friends_df = pd.DataFrame(columns=[\":START_ID\",\":END_ID\"])\n",
        "  x = 0\n",
        "  for i in range(len(users_data)):\n",
        "    user = users_data[i]\n",
        "    friends = user['friends']\n",
        "    for friend_id in friends:\n",
        "      friends_df.loc[x] = [ID_DICT[user['user_id']],ID_DICT[friend_id]]\n",
        "      x+=1\n",
        "\n",
        "  return friends_df.to_csv(\"friends.csv\",escapechar='\\\\', quotechar='\"', quoting=csv.QUOTE_ALL,mode=\"w\",index=False)"
      ]
    },
    {
      "cell_type": "code",
      "execution_count": null,
      "metadata": {
        "id": "KW-9WuIWvoaI"
      },
      "outputs": [],
      "source": [
        "friends = create_friends_relations(data_user)"
      ]
    },
    {
      "cell_type": "code",
      "execution_count": null,
      "metadata": {
        "colab": {
          "base_uri": "https://localhost:8080/"
        },
        "id": "hScNYFbA103p",
        "outputId": "571c0842-6fd7-4a3c-a3cd-47b020e0c275"
      },
      "outputs": [
        {
          "output_type": "stream",
          "name": "stdout",
          "text": [
            "[':START_ID', ':END_ID']\n",
            "['1', '41']\n",
            "['1', '32']\n",
            "['1', '362']\n",
            "['1', '219']\n",
            "['1', '12338']\n",
            "['1', '4329']\n",
            "['1', '553']\n",
            "['1', '1122']\n",
            "['1', '16827']\n",
            "['1', '1527']\n",
            "['1', '600']\n",
            "['1', '1590']\n",
            "['1', '501']\n",
            "['1', '6871']\n",
            "['1', '492']\n",
            "['1', '4134']\n",
            "['1', '44']\n",
            "['1', '830']\n",
            "['1', '1200']\n",
            "['1', '2015']\n",
            "['1', '1956']\n",
            "['1', '70']\n",
            "['1', '329']\n",
            "['2', '226']\n",
            "['2', '14339']\n",
            "['2', '96']\n",
            "['2', '1316']\n",
            "['3', '4134']\n",
            "['3', '84']\n"
          ]
        }
      ],
      "source": [
        "friends_path = \"/content/friends.csv\"\n",
        "print_csv(friends_path,30)"
      ]
    },
    {
      "cell_type": "code",
      "execution_count": null,
      "metadata": {
        "id": "vH1CTWryvYQn"
      },
      "outputs": [],
      "source": [
        "# Bien qu'on a déjà tranformé les fichiers json en csv, cette fonction permettra de prendre en compte\n",
        "# Les nouvaux ID determinés ci - haut. On aura une affichage plus claire\n",
        "# C'est les fichiers csv générés par cette fonction qui seront importé dans Neo4j. \n",
        "\n",
        "def transform_data(users_json_path,reviews_json_path,business_json_path):\n",
        "\n",
        "  # loading json data\n",
        "  with open(reviews_json_path) as f_review, open(users_json_path) as f_users, open(business_json_path) as f_business:\n",
        "    reviews_data = json.load(f_review)\n",
        "    users_data = json.load(f_users)\n",
        "    business_data = json.load(f_business)\n",
        "\n",
        "\n",
        "  # User data transforming\n",
        "  users_df = pd.DataFrame(columns=users_cols)\n",
        "  x = 0\n",
        "  for u in range(len(users_data)):\n",
        "      user_id = users_data[u]['user_id']\n",
        "      friends = users_data[u]['friends']\n",
        "      friends_id = [int(ID_DICT[friend_id]) for friend_id in friends]\n",
        "      if len(user_id) > 1 :\n",
        "        line = [ID_DICT[user_id],users_data[u]['name'],users_data[u]['review_count'],friends_id,users_data[u]['cool'],users_data[u]['elite'],users_data[u]['fans']]\n",
        "      else :\n",
        "        line = [int(user_id),users_data[u]['name'],users_data[u]['review_count'],friends_id,users_data[u]['cool'],users_data[u]['elite'],users_data[u]['fans']]\n",
        "      users_df.loc[x] = line\n",
        "      x+=1\n",
        "    \n",
        "  # review data transforming\n",
        "  x = 0\n",
        "  for u in range(len(reviews_data)):\n",
        "      reviews_data[u]['user_id'] = ID_DICT[reviews_data[u]['user_id']]\n",
        "      reviews_data[u]['review_id'] = ID_DICT_REVIEW[reviews_data[u]['review_id']]\n",
        "      reviews_data[u]['business_id'] = ID_DICT_BUSINESS[reviews_data[u]['business_id']]\n",
        "      x+=1\n",
        "  reviews_df = pd.DataFrame(reviews_data,columns=reviews_cols)\n",
        "\n",
        "  # review data transforming\n",
        "  for b in range(len(business_data)):\n",
        "    business_data[b]['business_id'] = ID_DICT_BUSINESS[business_data[b]['business_id']]\n",
        "  business_df = pd.json_normalize(business_data)\n",
        "\n",
        "\n",
        "  # loading data on csv files\n",
        "  users_df.to_csv(\"new_users.csv\",escapechar='\\\\', quotechar='\"', quoting=csv.QUOTE_ALL,mode=\"w\",index=False)\n",
        "  reviews_df.to_csv(\"new_reviews.csv\",escapechar='\\\\', quotechar='\"', quoting=csv.QUOTE_ALL,mode=\"w\",index=False)\n",
        "  business_df.to_csv(\"new_business.csv\",escapechar='\\\\', quotechar='\"', quoting=csv.QUOTE_ALL,mode=\"w\",index=False)\n"
      ]
    },
    {
      "cell_type": "code",
      "execution_count": null,
      "metadata": {
        "id": "WjrqOAmywmOC"
      },
      "outputs": [],
      "source": [
        "transform_data(users_json_path,reviews_json_path,business_json_path)"
      ]
    },
    {
      "cell_type": "code",
      "execution_count": null,
      "metadata": {
        "colab": {
          "base_uri": "https://localhost:8080/"
        },
        "id": "KHIaha0i1F55",
        "outputId": "bb1e3e8d-3763-4806-b3d3-8834ff2364d4"
      },
      "outputs": [
        {
          "output_type": "stream",
          "name": "stdout",
          "text": [
            "['user_id', 'name', 'review_count', 'friends', 'cool', 'elite', 'fans']\n",
            "['0', 'Weili', '90', '[]', '19', '', '1']\n",
            "['1', 'Robyn', '518', '[41, 32, 362, 219, 12338, 4329, 553, 1122, 16827, 1527, 600, 1590, 501, 6871, 492, 4134, 44, 830, 1200, 2015, 1956, 70, 329]', '348', '2009,2010,2011', '35']\n",
            "['2', 'JR', '199', '[226, 14339, 96, 1316]', '131', '2013,2014,2015,2016', '9']\n",
            "['3', 'Kate', '94', '[4134, 84, 1326, 821, 1320]', '80', '', '6']\n",
            "['4', 'Monica', '695', '[14249, 66]', '861', '2010,2011,2012,2013,2014,2015', '104']\n",
            "['5', 'Liz', '112', '[33, 4226, 12338]', '256', '2012,2013,2014', '36']\n",
            "['6', 'Ken', '341', '[53, 442, 461, 96, 327, 5768, 361, 229, 270, 226, 239, 307, 227, 212, 834, 362, 162, 1267, 763, 279, 116, 21, 1235, 271, 54, 553, 433, 103, 1173, 460, 1200, 282, 32, 1399, 135, 1332, 1444, 580, 1175, 821, 1677, 773, 154, 351, 2332, 2171, 1708, 355, 2222, 4156, 29, 2678, 119, 147, 741, 1287, 4910, 202, 1366, 84, 41, 2015, 1039, 1169, 1316, 137, 124, 2524, 868, 21946, 1531, 1312, 1353, 5169, 1256]', '583', '2011,2013,2014,2015,2016,2017,2018', '35']\n",
            "['7', 'Jack', '1050', '[175, 274, 29, 119, 6875, 4118, 9679, 12023, 67, 773, 9921, 55, 4233, 4223]', '2925', '2008,2009,2010,2011,2012,2013,2014,2015,2016,2017,2018', '117']\n",
            "['8', 'Dylan', '34', '[]', '13', '', '2']\n",
            "['9', 'Izzat', '1670', '[84, 21833]', '239', '2011,2012,2013,2014,2015,2016,2017,2018,2019,20,20,2021', '35']\n",
            "['10', 'Kent', '1072', '[6998, 84]', '288', '2010,2011,2012,2013,2014,2015,2016,2017,2018,2019', '22']\n",
            "['11', 'Jill', '333', '[29, 4111, 1171, 764, 114, 18428, 41, 6934, 304, 21818, 4159, 303, 932, 12105, 14395, 918, 21795, 927, 154, 190, 37, 229, 4244, 896, 534, 32, 333, 4156, 84]', '509', '2007,2008,2009,2010,2011,2012', '32']\n",
            "['12', 'Matt', '453', '[]', '126', '', '7']\n",
            "['13', 'Erin', '280', '[9845, 21790, 22043, 30, 4134, 672]', '247', '2012,2013', '28']\n",
            "['14', 'Mandy', '754', '[84, 891, 4134, 103, 461, 6973, 227, 33, 21754, 219, 32, 488, 9744, 553, 7234, 773, 4287, 2206, 1175, 7443, 21, 1395, 2678, 1652, 1448, 94, 2414, 2015, 4156, 1847, 4299, 4701, 849, 18707, 1107, 1353, 4374, 12861, 637]', '988', '2011,2012,2013,2014,2015,2016,2017,2018,2019,20,20,2021', '57']\n",
            "['15', 'Abbie', '157', '[227, 270, 442, 107, 1451, 1527, 103, 84]', '58', '2012,2013,2014,2015', '15']\n",
            "['16', 'Louis', '1070', '[6875, 120, 84, 1541, 1175, 107, 773, 4169, 2015, 7013, 32, 741, 1353, 1593, 336, 834, 1107]', '1047', '2008,2009,2010,2011,2012,2013,2014,2015,2016,2017,2018,2019,20,20,2021', '64']\n",
            "['17', 'Kristin', '655', '[7029, 103, 929, 365, 766, 84, 7323, 727, 4287, 4134, 1175, 647, 57, 1478, 1581, 2204, 4910, 4701, 124, 4235, 4156, 988, 442, 1320, 172, 1540]', '290', '2011,2012,2013,2014,2015,2016,2017,2018,2019,20,20,2021', '34']\n",
            "['18', 'Joe', '37', '[377, 465, 32]', '21', '', '4']\n"
          ]
        }
      ],
      "source": [
        "# affichage des csv aprés transformation\n",
        "new_users_path = \"/content/new_users.csv\"\n",
        "print_csv(new_users_path,20)"
      ]
    },
    {
      "cell_type": "code",
      "execution_count": null,
      "metadata": {
        "id": "dOFDVSLZQANd"
      },
      "outputs": [],
      "source": [
        "# Creation de relations REVIEW_OF et WROTE \n",
        "\n",
        "def create_reviews_relations(reviews_json_path):\n",
        "  \n",
        "  #loading json data\n",
        "  with open(reviews_json_path) as f:\n",
        "    reviews_data = json.load(f)\n",
        "\n",
        "  wrote_df = pd.DataFrame(columns=[\":START_ID(User)\",\":END_ID(Review)\"])\n",
        "  review_of_df = pd.DataFrame(columns=[\":START_ID(Review)\",\":END_ID(Business)\"])\n",
        "\n",
        "  for i in range(len(reviews_data)):\n",
        "    review = reviews_data[i]\n",
        "    user_id = review['user_id']\n",
        "    review_id = review['review_id']\n",
        "    business_id = review['business_id']\n",
        "    \n",
        "    wrote_df.loc[i] = [ID_DICT[user_id],ID_DICT_REVIEW[review_id]]\n",
        "    review_of_df.loc[i] = [ID_DICT_REVIEW[review_id],ID_DICT_BUSINESS[business_id]]\n",
        "\n",
        "  wrote_df.to_csv(\"wrote.csv\",escapechar='\\\\', quotechar='\"', quoting=csv.QUOTE_ALL,mode=\"w\",index=False)\n",
        "  review_of_df.to_csv(\"review_of.csv\",escapechar='\\\\', quotechar='\"', quoting=csv.QUOTE_ALL,mode=\"w\",index=False)"
      ]
    },
    {
      "cell_type": "code",
      "execution_count": null,
      "metadata": {
        "id": "xLk_l4ZcRv3L"
      },
      "outputs": [],
      "source": [
        "create_reviews_relations(reviews_json_path)"
      ]
    },
    {
      "cell_type": "code",
      "execution_count": null,
      "metadata": {
        "id": "ecRLLuyUSCni"
      },
      "outputs": [],
      "source": [
        "wrote_path = \"/content/wrote.csv\"\n",
        "review_of_path = \"/content/review_of.csv\""
      ]
    },
    {
      "cell_type": "code",
      "execution_count": null,
      "metadata": {
        "colab": {
          "base_uri": "https://localhost:8080/"
        },
        "id": "tkgMirxDR5Zz",
        "outputId": "e82e3e59-5f95-4947-f4e1-94c7ae34a9bd"
      },
      "outputs": [
        {
          "output_type": "stream",
          "name": "stdout",
          "text": [
            "[':START_ID(User)', ':END_ID(Review)']\n",
            "['2443', '0']\n",
            "['3055', '1']\n",
            "['3453', '2']\n",
            "['268', '3']\n",
            "['936', '4']\n",
            "['4078', '5']\n",
            "['415', '6']\n",
            "['1045', '7']\n",
            "['288', '8']\n",
            "['3169', '9']\n",
            "['3629', '10']\n",
            "['1832', '11']\n",
            "['4020', '12']\n",
            "['3919', '13']\n",
            "['1459', '14']\n",
            "['1274', '15']\n",
            "['763', '16']\n",
            "['3134', '17']\n",
            "['3169', '18']\n",
            "['599', '19']\n",
            "['396', '20']\n",
            "['1943', '21']\n",
            "['4040', '22']\n",
            "['1908', '23']\n",
            "['332', '24']\n",
            "['1748', '25']\n",
            "['1493', '26']\n",
            "['2608', '27']\n",
            "['3648', '28']\n"
          ]
        }
      ],
      "source": [
        "# Affichage de la relation WROTE\n",
        "print_csv(wrote_path,30)"
      ]
    },
    {
      "cell_type": "code",
      "execution_count": null,
      "metadata": {
        "colab": {
          "base_uri": "https://localhost:8080/"
        },
        "id": "xeKk-sTBU-kU",
        "outputId": "e282e80a-827d-4493-90b4-0bf55cd88e57"
      },
      "outputs": [
        {
          "output_type": "stream",
          "name": "stdout",
          "text": [
            "[':START_ID(Review)', ':END_ID(Business)']\n",
            "['0', '32']\n",
            "['1', '67']\n",
            "['2', '25']\n",
            "['3', '54']\n",
            "['4', '73']\n",
            "['5', '49']\n",
            "['6', '49']\n",
            "['7', '12']\n",
            "['8', '22']\n",
            "['9', '45']\n",
            "['10', '29']\n",
            "['11', '23']\n",
            "['12', '33']\n",
            "['13', '33']\n",
            "['14', '38']\n",
            "['15', '3']\n",
            "['16', '30']\n",
            "['17', '34']\n",
            "['18', '34']\n",
            "['19', '66']\n",
            "['20', '25']\n",
            "['21', '0']\n",
            "['22', '70']\n",
            "['23', '66']\n",
            "['24', '20']\n",
            "['25', '57']\n",
            "['26', '49']\n",
            "['27', '29']\n",
            "['28', '25']\n"
          ]
        }
      ],
      "source": [
        "# Affichage de la relation REVIEW_OF\n",
        "print_csv(review_of_path,30)"
      ]
    }
  ],
  "metadata": {
    "colab": {
      "provenance": []
    },
    "kernelspec": {
      "display_name": "Python 3",
      "name": "python3"
    },
    "language_info": {
      "name": "python"
    }
  },
  "nbformat": 4,
  "nbformat_minor": 0
}